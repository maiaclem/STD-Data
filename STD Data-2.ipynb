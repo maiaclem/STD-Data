{
 "cells": [
  {
   "cell_type": "markdown",
   "id": "4f0840f1",
   "metadata": {},
   "source": [
    "Datset- STD infection rates in America"
   ]
  },
  {
   "cell_type": "markdown",
   "id": "10b387c1",
   "metadata": {},
   "source": [
    "Objective-Examine the occurrences of STDs between different groups of people (e.g. men vs women, different age groups)"
   ]
  },
  {
   "cell_type": "code",
   "execution_count": 1,
   "id": "ea16fac4",
   "metadata": {},
   "outputs": [],
   "source": [
    "import pandas as pd\n",
    "import numpy as np\n",
    "import matplotlib.pyplot as plt\n",
    "\n",
    "import seaborn as sns"
   ]
  },
  {
   "cell_type": "code",
   "execution_count": 2,
   "id": "5d805027",
   "metadata": {},
   "outputs": [],
   "source": [
    "#loading dataset\n",
    "std=pd.read_csv('STD Cases.csv')"
   ]
  },
  {
   "cell_type": "code",
   "execution_count": 3,
   "id": "3abb6da2",
   "metadata": {},
   "outputs": [
    {
     "data": {
      "text/html": [
       "<div>\n",
       "<style scoped>\n",
       "    .dataframe tbody tr th:only-of-type {\n",
       "        vertical-align: middle;\n",
       "    }\n",
       "\n",
       "    .dataframe tbody tr th {\n",
       "        vertical-align: top;\n",
       "    }\n",
       "\n",
       "    .dataframe thead th {\n",
       "        text-align: right;\n",
       "    }\n",
       "</style>\n",
       "<table border=\"1\" class=\"dataframe\">\n",
       "  <thead>\n",
       "    <tr style=\"text-align: right;\">\n",
       "      <th></th>\n",
       "      <th>index</th>\n",
       "      <th>Disease</th>\n",
       "      <th>Disease Code</th>\n",
       "      <th>State</th>\n",
       "      <th>Year</th>\n",
       "      <th>Gender</th>\n",
       "      <th>Age</th>\n",
       "      <th>Age Code</th>\n",
       "      <th>STD Cases</th>\n",
       "      <th>Population</th>\n",
       "      <th>Rate per 100K</th>\n",
       "    </tr>\n",
       "  </thead>\n",
       "  <tbody>\n",
       "    <tr>\n",
       "      <th>0</th>\n",
       "      <td>0</td>\n",
       "      <td>Chlamydia</td>\n",
       "      <td>274.0</td>\n",
       "      <td>Alabama</td>\n",
       "      <td>1996.0</td>\n",
       "      <td>Male</td>\n",
       "      <td>0-14 years</td>\n",
       "      <td>0-14</td>\n",
       "      <td>25.0</td>\n",
       "      <td>468394.0</td>\n",
       "      <td>5.34</td>\n",
       "    </tr>\n",
       "    <tr>\n",
       "      <th>1</th>\n",
       "      <td>1</td>\n",
       "      <td>Chlamydia</td>\n",
       "      <td>274.0</td>\n",
       "      <td>Alabama</td>\n",
       "      <td>1996.0</td>\n",
       "      <td>Male</td>\n",
       "      <td>15-19 years</td>\n",
       "      <td>15-19</td>\n",
       "      <td>164.0</td>\n",
       "      <td>165920.0</td>\n",
       "      <td>98.84</td>\n",
       "    </tr>\n",
       "    <tr>\n",
       "      <th>2</th>\n",
       "      <td>2</td>\n",
       "      <td>Chlamydia</td>\n",
       "      <td>274.0</td>\n",
       "      <td>Alabama</td>\n",
       "      <td>1996.0</td>\n",
       "      <td>Male</td>\n",
       "      <td>20-24 years</td>\n",
       "      <td>20-24</td>\n",
       "      <td>193.0</td>\n",
       "      <td>152848.0</td>\n",
       "      <td>126.27</td>\n",
       "    </tr>\n",
       "    <tr>\n",
       "      <th>3</th>\n",
       "      <td>3</td>\n",
       "      <td>Chlamydia</td>\n",
       "      <td>274.0</td>\n",
       "      <td>Alabama</td>\n",
       "      <td>1996.0</td>\n",
       "      <td>Male</td>\n",
       "      <td>25-29 years</td>\n",
       "      <td>25-29</td>\n",
       "      <td>88.0</td>\n",
       "      <td>152778.0</td>\n",
       "      <td>57.60</td>\n",
       "    </tr>\n",
       "    <tr>\n",
       "      <th>4</th>\n",
       "      <td>4</td>\n",
       "      <td>Chlamydia</td>\n",
       "      <td>274.0</td>\n",
       "      <td>Alabama</td>\n",
       "      <td>1996.0</td>\n",
       "      <td>Male</td>\n",
       "      <td>30-34 years</td>\n",
       "      <td>30-34</td>\n",
       "      <td>55.0</td>\n",
       "      <td>155850.0</td>\n",
       "      <td>35.29</td>\n",
       "    </tr>\n",
       "  </tbody>\n",
       "</table>\n",
       "</div>"
      ],
      "text/plain": [
       "   index    Disease  Disease Code    State    Year Gender          Age  \\\n",
       "0      0  Chlamydia         274.0  Alabama  1996.0   Male   0-14 years   \n",
       "1      1  Chlamydia         274.0  Alabama  1996.0   Male  15-19 years   \n",
       "2      2  Chlamydia         274.0  Alabama  1996.0   Male  20-24 years   \n",
       "3      3  Chlamydia         274.0  Alabama  1996.0   Male  25-29 years   \n",
       "4      4  Chlamydia         274.0  Alabama  1996.0   Male  30-34 years   \n",
       "\n",
       "  Age Code  STD Cases  Population  Rate per 100K  \n",
       "0     0-14       25.0    468394.0           5.34  \n",
       "1    15-19      164.0    165920.0          98.84  \n",
       "2    20-24      193.0    152848.0         126.27  \n",
       "3    25-29       88.0    152778.0          57.60  \n",
       "4    30-34       55.0    155850.0          35.29  "
      ]
     },
     "execution_count": 3,
     "metadata": {},
     "output_type": "execute_result"
    }
   ],
   "source": [
    "#preview of the data\n",
    "std.head()"
   ]
  },
  {
   "cell_type": "code",
   "execution_count": 4,
   "id": "a7cff38d",
   "metadata": {},
   "outputs": [
    {
     "data": {
      "text/plain": [
       "(42680, 11)"
      ]
     },
     "execution_count": 4,
     "metadata": {},
     "output_type": "execute_result"
    }
   ],
   "source": [
    "std.shape"
   ]
  },
  {
   "cell_type": "code",
   "execution_count": 5,
   "id": "e4321fdd",
   "metadata": {},
   "outputs": [
    {
     "data": {
      "text/plain": [
       "index               0\n",
       "Disease           150\n",
       "Disease Code      150\n",
       "State             150\n",
       "Year              150\n",
       "Gender            150\n",
       "Age               150\n",
       "Age Code          150\n",
       "STD Cases         150\n",
       "Population       7197\n",
       "Rate per 100K    7197\n",
       "dtype: int64"
      ]
     },
     "execution_count": 5,
     "metadata": {},
     "output_type": "execute_result"
    }
   ],
   "source": [
    "#checking number of nulls\n",
    "std.isna().sum()"
   ]
  },
  {
   "cell_type": "code",
   "execution_count": 6,
   "id": "0996f874",
   "metadata": {},
   "outputs": [],
   "source": [
    "#decided to drop all null values in columns that arent population and rate per 100k. "
   ]
  },
  {
   "cell_type": "code",
   "execution_count": 7,
   "id": "e16065f4",
   "metadata": {},
   "outputs": [],
   "source": [
    "std=std.dropna(subset=['Disease','Disease Code','State','Year','Gender','Age','Age Code','STD Cases'])"
   ]
  },
  {
   "cell_type": "code",
   "execution_count": 8,
   "id": "f174abd6",
   "metadata": {},
   "outputs": [
    {
     "data": {
      "text/plain": [
       "index               0\n",
       "Disease             0\n",
       "Disease Code        0\n",
       "State               0\n",
       "Year                0\n",
       "Gender              0\n",
       "Age                 0\n",
       "Age Code            0\n",
       "STD Cases           0\n",
       "Population       7047\n",
       "Rate per 100K    7047\n",
       "dtype: int64"
      ]
     },
     "execution_count": 8,
     "metadata": {},
     "output_type": "execute_result"
    }
   ],
   "source": [
    "std.isna().sum()"
   ]
  },
  {
   "cell_type": "code",
   "execution_count": 9,
   "id": "d0f0a3ef",
   "metadata": {},
   "outputs": [
    {
     "data": {
      "text/plain": [
       "index              int64\n",
       "Disease           object\n",
       "Disease Code     float64\n",
       "State             object\n",
       "Year             float64\n",
       "Gender            object\n",
       "Age               object\n",
       "Age Code          object\n",
       "STD Cases        float64\n",
       "Population       float64\n",
       "Rate per 100K    float64\n",
       "dtype: object"
      ]
     },
     "execution_count": 9,
     "metadata": {},
     "output_type": "execute_result"
    }
   ],
   "source": [
    "#checking data types\n",
    "std.dtypes"
   ]
  },
  {
   "cell_type": "code",
   "execution_count": 10,
   "id": "4d73045e",
   "metadata": {},
   "outputs": [
    {
     "data": {
      "text/plain": [
       "array(['Chlamydia', 'Gonorrhea', 'Primary and Secondary Syphilis'],\n",
       "      dtype=object)"
      ]
     },
     "execution_count": 10,
     "metadata": {},
     "output_type": "execute_result"
    }
   ],
   "source": [
    "#Unique values in disease column\n",
    "std['Disease'].unique()"
   ]
  },
  {
   "cell_type": "code",
   "execution_count": 11,
   "id": "88842bc0",
   "metadata": {},
   "outputs": [
    {
     "data": {
      "text/plain": [
       "array([1996., 1997., 1998., 1999., 2000., 2001., 2002., 2003., 2004.,\n",
       "       2005., 2006., 2007., 2008., 2009., 2010., 2011., 2012., 2013.,\n",
       "       2014.])"
      ]
     },
     "execution_count": 11,
     "metadata": {},
     "output_type": "execute_result"
    }
   ],
   "source": [
    "#unique values in the year column\n",
    "std['Year'].unique()"
   ]
  },
  {
   "cell_type": "code",
   "execution_count": 12,
   "id": "8819bcfc",
   "metadata": {},
   "outputs": [],
   "source": [
    "#changing data type of std cases\n",
    "std = std.astype({'STD Cases':'int'}) "
   ]
  },
  {
   "cell_type": "code",
   "execution_count": 13,
   "id": "c021475e",
   "metadata": {},
   "outputs": [
    {
     "data": {
      "text/plain": [
       "(42530, 11)"
      ]
     },
     "execution_count": 13,
     "metadata": {},
     "output_type": "execute_result"
    }
   ],
   "source": [
    "std.shape"
   ]
  },
  {
   "cell_type": "code",
   "execution_count": 14,
   "id": "ab54ed86",
   "metadata": {},
   "outputs": [
    {
     "data": {
      "text/plain": [
       "Disease\n",
       "Chlamydia                         17496\n",
       "Gonorrhea                         16154\n",
       "Primary and Secondary Syphilis     8880\n",
       "dtype: int64"
      ]
     },
     "execution_count": 14,
     "metadata": {},
     "output_type": "execute_result"
    }
   ],
   "source": [
    "std.groupby(['Disease']).size()"
   ]
  },
  {
   "cell_type": "code",
   "execution_count": 15,
   "id": "13e71624",
   "metadata": {},
   "outputs": [
    {
     "data": {
      "text/html": [
       "<div>\n",
       "<style scoped>\n",
       "    .dataframe tbody tr th:only-of-type {\n",
       "        vertical-align: middle;\n",
       "    }\n",
       "\n",
       "    .dataframe tbody tr th {\n",
       "        vertical-align: top;\n",
       "    }\n",
       "\n",
       "    .dataframe thead th {\n",
       "        text-align: right;\n",
       "    }\n",
       "</style>\n",
       "<table border=\"1\" class=\"dataframe\">\n",
       "  <thead>\n",
       "    <tr style=\"text-align: right;\">\n",
       "      <th></th>\n",
       "      <th>index</th>\n",
       "      <th>Disease Code</th>\n",
       "      <th>Year</th>\n",
       "      <th>STD Cases</th>\n",
       "      <th>Population</th>\n",
       "      <th>Rate per 100K</th>\n",
       "    </tr>\n",
       "  </thead>\n",
       "  <tbody>\n",
       "    <tr>\n",
       "      <th>count</th>\n",
       "      <td>42530.000000</td>\n",
       "      <td>42530.000000</td>\n",
       "      <td>42530.000000</td>\n",
       "      <td>42530.000000</td>\n",
       "      <td>3.548300e+04</td>\n",
       "      <td>35483.000000</td>\n",
       "    </tr>\n",
       "    <tr>\n",
       "      <th>mean</th>\n",
       "      <td>21313.604162</td>\n",
       "      <td>283.795533</td>\n",
       "      <td>2005.240607</td>\n",
       "      <td>603.133647</td>\n",
       "      <td>4.389794e+05</td>\n",
       "      <td>325.661860</td>\n",
       "    </tr>\n",
       "    <tr>\n",
       "      <th>std</th>\n",
       "      <td>12320.345496</td>\n",
       "      <td>13.723063</td>\n",
       "      <td>5.431696</td>\n",
       "      <td>1973.091099</td>\n",
       "      <td>7.605588e+05</td>\n",
       "      <td>697.545461</td>\n",
       "    </tr>\n",
       "    <tr>\n",
       "      <th>min</th>\n",
       "      <td>0.000000</td>\n",
       "      <td>274.000000</td>\n",
       "      <td>1996.000000</td>\n",
       "      <td>1.000000</td>\n",
       "      <td>1.293700e+04</td>\n",
       "      <td>0.020000</td>\n",
       "    </tr>\n",
       "    <tr>\n",
       "      <th>25%</th>\n",
       "      <td>10632.250000</td>\n",
       "      <td>274.000000</td>\n",
       "      <td>2001.000000</td>\n",
       "      <td>8.000000</td>\n",
       "      <td>9.418100e+04</td>\n",
       "      <td>6.950000</td>\n",
       "    </tr>\n",
       "    <tr>\n",
       "      <th>50%</th>\n",
       "      <td>21314.500000</td>\n",
       "      <td>280.000000</td>\n",
       "      <td>2005.000000</td>\n",
       "      <td>59.000000</td>\n",
       "      <td>1.966280e+05</td>\n",
       "      <td>52.890000</td>\n",
       "    </tr>\n",
       "    <tr>\n",
       "      <th>75%</th>\n",
       "      <td>31996.750000</td>\n",
       "      <td>280.000000</td>\n",
       "      <td>2010.000000</td>\n",
       "      <td>380.000000</td>\n",
       "      <td>4.322250e+05</td>\n",
       "      <td>302.955000</td>\n",
       "    </tr>\n",
       "    <tr>\n",
       "      <th>max</th>\n",
       "      <td>42629.000000</td>\n",
       "      <td>310.000000</td>\n",
       "      <td>2014.000000</td>\n",
       "      <td>46885.000000</td>\n",
       "      <td>8.880836e+06</td>\n",
       "      <td>9078.950000</td>\n",
       "    </tr>\n",
       "  </tbody>\n",
       "</table>\n",
       "</div>"
      ],
      "text/plain": [
       "              index  Disease Code          Year     STD Cases    Population  \\\n",
       "count  42530.000000  42530.000000  42530.000000  42530.000000  3.548300e+04   \n",
       "mean   21313.604162    283.795533   2005.240607    603.133647  4.389794e+05   \n",
       "std    12320.345496     13.723063      5.431696   1973.091099  7.605588e+05   \n",
       "min        0.000000    274.000000   1996.000000      1.000000  1.293700e+04   \n",
       "25%    10632.250000    274.000000   2001.000000      8.000000  9.418100e+04   \n",
       "50%    21314.500000    280.000000   2005.000000     59.000000  1.966280e+05   \n",
       "75%    31996.750000    280.000000   2010.000000    380.000000  4.322250e+05   \n",
       "max    42629.000000    310.000000   2014.000000  46885.000000  8.880836e+06   \n",
       "\n",
       "       Rate per 100K  \n",
       "count   35483.000000  \n",
       "mean      325.661860  \n",
       "std       697.545461  \n",
       "min         0.020000  \n",
       "25%         6.950000  \n",
       "50%        52.890000  \n",
       "75%       302.955000  \n",
       "max      9078.950000  "
      ]
     },
     "execution_count": 15,
     "metadata": {},
     "output_type": "execute_result"
    }
   ],
   "source": [
    "std.describe()"
   ]
  },
  {
   "cell_type": "code",
   "execution_count": 16,
   "id": "5c282c4c",
   "metadata": {},
   "outputs": [
    {
     "data": {
      "text/plain": [
       "Text(0.5, 1.0, 'Prevalence of STDs in the US')"
      ]
     },
     "execution_count": 16,
     "metadata": {},
     "output_type": "execute_result"
    },
    {
     "data": {
      "image/png": "[encoded data removed]",
      "text/plain": [
       "<Figure size 640x480 with 1 Axes>"
      ]
     },
     "metadata": {},
     "output_type": "display_data"
    }
   ],
   "source": [
    "sns.barplot(x='Disease',y='STD Cases', data=std)\n",
    "plt.xlabel('Diseases')\n",
    "plt.ylabel('Number of Cases')\n",
    "plt.title('Prevalence of STDs in the US')"
   ]
  },
  {
   "cell_type": "code",
   "execution_count": 17,
   "id": "883986ae",
   "metadata": {},
   "outputs": [],
   "source": [
    "disease_std = std.groupby(by=\"Disease\")[\"STD Cases\"].sum()"
   ]
  },
  {
   "cell_type": "code",
   "execution_count": 18,
   "id": "831c4329",
   "metadata": {},
   "outputs": [
    {
     "data": {
      "text/plain": [
       "Disease\n",
       "Chlamydia                         18991264\n",
       "Gonorrhea                          6454097\n",
       "Primary and Secondary Syphilis      205913\n",
       "Name: STD Cases, dtype: int64"
      ]
     },
     "execution_count": 18,
     "metadata": {},
     "output_type": "execute_result"
    }
   ],
   "source": [
    "disease_std"
   ]
  },
  {
   "cell_type": "markdown",
   "id": "e6aa120b",
   "metadata": {},
   "source": [
    "We see that chlamydia is the most prominent in the entire dataset. "
   ]
  },
  {
   "cell_type": "code",
   "execution_count": 19,
   "id": "6e1dddd8",
   "metadata": {},
   "outputs": [],
   "source": [
    "disease_state=std.sort_values(['Disease','State'], ascending=False).groupby('Disease').head()"
   ]
  },
  {
   "cell_type": "code",
   "execution_count": 20,
   "id": "de4abe8d",
   "metadata": {},
   "outputs": [
    {
     "data": {
      "text/html": [
       "<div>\n",
       "<style scoped>\n",
       "    .dataframe tbody tr th:only-of-type {\n",
       "        vertical-align: middle;\n",
       "    }\n",
       "\n",
       "    .dataframe tbody tr th {\n",
       "        vertical-align: top;\n",
       "    }\n",
       "\n",
       "    .dataframe thead th {\n",
       "        text-align: right;\n",
       "    }\n",
       "</style>\n",
       "<table border=\"1\" class=\"dataframe\">\n",
       "  <thead>\n",
       "    <tr style=\"text-align: right;\">\n",
       "      <th></th>\n",
       "      <th>index</th>\n",
       "      <th>Disease</th>\n",
       "      <th>Disease Code</th>\n",
       "      <th>State</th>\n",
       "      <th>Year</th>\n",
       "      <th>Gender</th>\n",
       "      <th>Age</th>\n",
       "      <th>Age Code</th>\n",
       "      <th>STD Cases</th>\n",
       "      <th>Population</th>\n",
       "      <th>Rate per 100K</th>\n",
       "    </tr>\n",
       "  </thead>\n",
       "  <tbody>\n",
       "    <tr>\n",
       "      <th>19445</th>\n",
       "      <td>19445</td>\n",
       "      <td>Primary and Secondary Syphilis</td>\n",
       "      <td>310.0</td>\n",
       "      <td>Wyoming</td>\n",
       "      <td>1996.0</td>\n",
       "      <td>Male</td>\n",
       "      <td>40+ years</td>\n",
       "      <td>40+</td>\n",
       "      <td>1</td>\n",
       "      <td>97573.0</td>\n",
       "      <td>1.02</td>\n",
       "    </tr>\n",
       "    <tr>\n",
       "      <th>19446</th>\n",
       "      <td>19446</td>\n",
       "      <td>Primary and Secondary Syphilis</td>\n",
       "      <td>310.0</td>\n",
       "      <td>Wyoming</td>\n",
       "      <td>1998.0</td>\n",
       "      <td>Male</td>\n",
       "      <td>40+ years</td>\n",
       "      <td>40+</td>\n",
       "      <td>1</td>\n",
       "      <td>102238.0</td>\n",
       "      <td>0.98</td>\n",
       "    </tr>\n",
       "    <tr>\n",
       "      <th>19447</th>\n",
       "      <td>19447</td>\n",
       "      <td>Primary and Secondary Syphilis</td>\n",
       "      <td>310.0</td>\n",
       "      <td>Wyoming</td>\n",
       "      <td>2004.0</td>\n",
       "      <td>Male</td>\n",
       "      <td>25-29 years</td>\n",
       "      <td>25-29</td>\n",
       "      <td>1</td>\n",
       "      <td>16327.0</td>\n",
       "      <td>6.12</td>\n",
       "    </tr>\n",
       "    <tr>\n",
       "      <th>19448</th>\n",
       "      <td>19448</td>\n",
       "      <td>Primary and Secondary Syphilis</td>\n",
       "      <td>310.0</td>\n",
       "      <td>Wyoming</td>\n",
       "      <td>2004.0</td>\n",
       "      <td>Male</td>\n",
       "      <td>30-34 years</td>\n",
       "      <td>30-34</td>\n",
       "      <td>1</td>\n",
       "      <td>15565.0</td>\n",
       "      <td>6.42</td>\n",
       "    </tr>\n",
       "    <tr>\n",
       "      <th>19449</th>\n",
       "      <td>19449</td>\n",
       "      <td>Primary and Secondary Syphilis</td>\n",
       "      <td>310.0</td>\n",
       "      <td>Wyoming</td>\n",
       "      <td>2007.0</td>\n",
       "      <td>Male</td>\n",
       "      <td>25-29 years</td>\n",
       "      <td>25-29</td>\n",
       "      <td>1</td>\n",
       "      <td>20326.0</td>\n",
       "      <td>4.92</td>\n",
       "    </tr>\n",
       "    <tr>\n",
       "      <th>14494</th>\n",
       "      <td>14494</td>\n",
       "      <td>Gonorrhea</td>\n",
       "      <td>280.0</td>\n",
       "      <td>Wyoming</td>\n",
       "      <td>1996.0</td>\n",
       "      <td>Male</td>\n",
       "      <td>15-19 years</td>\n",
       "      <td>15-19</td>\n",
       "      <td>3</td>\n",
       "      <td>21838.0</td>\n",
       "      <td>13.74</td>\n",
       "    </tr>\n",
       "    <tr>\n",
       "      <th>14495</th>\n",
       "      <td>14495</td>\n",
       "      <td>Gonorrhea</td>\n",
       "      <td>280.0</td>\n",
       "      <td>Wyoming</td>\n",
       "      <td>1996.0</td>\n",
       "      <td>Male</td>\n",
       "      <td>20-24 years</td>\n",
       "      <td>20-24</td>\n",
       "      <td>4</td>\n",
       "      <td>16960.0</td>\n",
       "      <td>23.58</td>\n",
       "    </tr>\n",
       "    <tr>\n",
       "      <th>14496</th>\n",
       "      <td>14496</td>\n",
       "      <td>Gonorrhea</td>\n",
       "      <td>280.0</td>\n",
       "      <td>Wyoming</td>\n",
       "      <td>1996.0</td>\n",
       "      <td>Male</td>\n",
       "      <td>25-29 years</td>\n",
       "      <td>25-29</td>\n",
       "      <td>3</td>\n",
       "      <td>14000.0</td>\n",
       "      <td>21.43</td>\n",
       "    </tr>\n",
       "    <tr>\n",
       "      <th>14497</th>\n",
       "      <td>14497</td>\n",
       "      <td>Gonorrhea</td>\n",
       "      <td>280.0</td>\n",
       "      <td>Wyoming</td>\n",
       "      <td>1996.0</td>\n",
       "      <td>Male</td>\n",
       "      <td>30-34 years</td>\n",
       "      <td>30-34</td>\n",
       "      <td>2</td>\n",
       "      <td>16971.0</td>\n",
       "      <td>11.78</td>\n",
       "    </tr>\n",
       "    <tr>\n",
       "      <th>14498</th>\n",
       "      <td>14498</td>\n",
       "      <td>Gonorrhea</td>\n",
       "      <td>280.0</td>\n",
       "      <td>Wyoming</td>\n",
       "      <td>1996.0</td>\n",
       "      <td>Male</td>\n",
       "      <td>35-39 years</td>\n",
       "      <td>35-39</td>\n",
       "      <td>1</td>\n",
       "      <td>21612.0</td>\n",
       "      <td>4.63</td>\n",
       "    </tr>\n",
       "    <tr>\n",
       "      <th>7301</th>\n",
       "      <td>7301</td>\n",
       "      <td>Chlamydia</td>\n",
       "      <td>274.0</td>\n",
       "      <td>Wyoming</td>\n",
       "      <td>1996.0</td>\n",
       "      <td>Male</td>\n",
       "      <td>0-14 years</td>\n",
       "      <td>0-14</td>\n",
       "      <td>2</td>\n",
       "      <td>56303.0</td>\n",
       "      <td>3.55</td>\n",
       "    </tr>\n",
       "    <tr>\n",
       "      <th>7302</th>\n",
       "      <td>7302</td>\n",
       "      <td>Chlamydia</td>\n",
       "      <td>274.0</td>\n",
       "      <td>Wyoming</td>\n",
       "      <td>1996.0</td>\n",
       "      <td>Male</td>\n",
       "      <td>15-19 years</td>\n",
       "      <td>15-19</td>\n",
       "      <td>32</td>\n",
       "      <td>21838.0</td>\n",
       "      <td>146.53</td>\n",
       "    </tr>\n",
       "    <tr>\n",
       "      <th>7303</th>\n",
       "      <td>7303</td>\n",
       "      <td>Chlamydia</td>\n",
       "      <td>274.0</td>\n",
       "      <td>Wyoming</td>\n",
       "      <td>1996.0</td>\n",
       "      <td>Male</td>\n",
       "      <td>20-24 years</td>\n",
       "      <td>20-24</td>\n",
       "      <td>35</td>\n",
       "      <td>16960.0</td>\n",
       "      <td>206.37</td>\n",
       "    </tr>\n",
       "    <tr>\n",
       "      <th>7304</th>\n",
       "      <td>7304</td>\n",
       "      <td>Chlamydia</td>\n",
       "      <td>274.0</td>\n",
       "      <td>Wyoming</td>\n",
       "      <td>1996.0</td>\n",
       "      <td>Male</td>\n",
       "      <td>25-29 years</td>\n",
       "      <td>25-29</td>\n",
       "      <td>14</td>\n",
       "      <td>14000.0</td>\n",
       "      <td>100.00</td>\n",
       "    </tr>\n",
       "    <tr>\n",
       "      <th>7305</th>\n",
       "      <td>7305</td>\n",
       "      <td>Chlamydia</td>\n",
       "      <td>274.0</td>\n",
       "      <td>Wyoming</td>\n",
       "      <td>1996.0</td>\n",
       "      <td>Male</td>\n",
       "      <td>30-34 years</td>\n",
       "      <td>30-34</td>\n",
       "      <td>4</td>\n",
       "      <td>16971.0</td>\n",
       "      <td>23.57</td>\n",
       "    </tr>\n",
       "  </tbody>\n",
       "</table>\n",
       "</div>"
      ],
      "text/plain": [
       "       index                         Disease  Disease Code    State    Year  \\\n",
       "19445  19445  Primary and Secondary Syphilis         310.0  Wyoming  1996.0   \n",
       "19446  19446  Primary and Secondary Syphilis         310.0  Wyoming  1998.0   \n",
       "19447  19447  Primary and Secondary Syphilis         310.0  Wyoming  2004.0   \n",
       "19448  19448  Primary and Secondary Syphilis         310.0  Wyoming  2004.0   \n",
       "19449  19449  Primary and Secondary Syphilis         310.0  Wyoming  2007.0   \n",
       "14494  14494                       Gonorrhea         280.0  Wyoming  1996.0   \n",
       "14495  14495                       Gonorrhea         280.0  Wyoming  1996.0   \n",
       "14496  14496                       Gonorrhea         280.0  Wyoming  1996.0   \n",
       "14497  14497                       Gonorrhea         280.0  Wyoming  1996.0   \n",
       "14498  14498                       Gonorrhea         280.0  Wyoming  1996.0   \n",
       "7301    7301                       Chlamydia         274.0  Wyoming  1996.0   \n",
       "7302    7302                       Chlamydia         274.0  Wyoming  1996.0   \n",
       "7303    7303                       Chlamydia         274.0  Wyoming  1996.0   \n",
       "7304    7304                       Chlamydia         274.0  Wyoming  1996.0   \n",
       "7305    7305                       Chlamydia         274.0  Wyoming  1996.0   \n",
       "\n",
       "      Gender          Age Age Code  STD Cases  Population  Rate per 100K  \n",
       "19445   Male    40+ years      40+          1     97573.0           1.02  \n",
       "19446   Male    40+ years      40+          1    102238.0           0.98  \n",
       "19447   Male  25-29 years    25-29          1     16327.0           6.12  \n",
       "19448   Male  30-34 years    30-34          1     15565.0           6.42  \n",
       "19449   Male  25-29 years    25-29          1     20326.0           4.92  \n",
       "14494   Male  15-19 years    15-19          3     21838.0          13.74  \n",
       "14495   Male  20-24 years    20-24          4     16960.0          23.58  \n",
       "14496   Male  25-29 years    25-29          3     14000.0          21.43  \n",
       "14497   Male  30-34 years    30-34          2     16971.0          11.78  \n",
       "14498   Male  35-39 years    35-39          1     21612.0           4.63  \n",
       "7301    Male   0-14 years     0-14          2     56303.0           3.55  \n",
       "7302    Male  15-19 years    15-19         32     21838.0         146.53  \n",
       "7303    Male  20-24 years    20-24         35     16960.0         206.37  \n",
       "7304    Male  25-29 years    25-29         14     14000.0         100.00  \n",
       "7305    Male  30-34 years    30-34          4     16971.0          23.57  "
      ]
     },
     "execution_count": 20,
     "metadata": {},
     "output_type": "execute_result"
    }
   ],
   "source": [
    "disease_state"
   ]
  },
  {
   "cell_type": "markdown",
   "id": "b80eb45d",
   "metadata": {},
   "source": [
    "# STDs by State/Population"
   ]
  },
  {
   "cell_type": "code",
   "execution_count": 21,
   "id": "2040c544",
   "metadata": {},
   "outputs": [],
   "source": [
    "#sorting the number of stds by state (ascending)\n",
    "state_std = std.groupby('State')['STD Cases'].sum().sort_values(ascending=True)"
   ]
  },
  {
   "cell_type": "code",
   "execution_count": 22,
   "id": "a010f90a",
   "metadata": {},
   "outputs": [
    {
     "data": {
      "text/plain": [
       "State\n",
       "Vermont                   21516\n",
       "Wyoming                   26315\n",
       "North Dakota              37255\n",
       "New Hampshire             39142\n",
       "Maine                     44519\n",
       "Montana                   51032\n",
       "South Dakota              57064\n",
       "Idaho                     63938\n",
       "Rhode Island              71244\n",
       "West Virginia             76505\n",
       "Alaska                    89281\n",
       "Delaware                  91231\n",
       "Utah                      99020\n",
       "Hawaii                   106856\n",
       "Nebraska                 119633\n",
       "District of Columbia     140146\n",
       "Nevada                   180075\n",
       "Iowa                     180350\n",
       "New Mexico               185112\n",
       "Kansas                   197425\n",
       "Oregon                   205212\n",
       "Connecticut              248788\n",
       "Arkansas                 270043\n",
       "Kentucky                 278059\n",
       "Minnesota                289849\n",
       "Oklahoma                 330536\n",
       "Massachusetts            335397\n",
       "Colorado                 351654\n",
       "Washington               397864\n",
       "Mississippi              459699\n",
       "Wisconsin                463874\n",
       "Arizona                  477074\n",
       "New Jersey               502538\n",
       "Indiana                  505687\n",
       "Maryland                 545787\n",
       "Missouri                 553025\n",
       "Alabama                  569174\n",
       "South Carolina           574228\n",
       "Louisiana                608784\n",
       "Tennessee                613610\n",
       "Virginia                 614552\n",
       "North Carolina           930604\n",
       "Pennsylvania             954944\n",
       "Michigan                 978864\n",
       "Georgia                 1048311\n",
       "Ohio                    1134937\n",
       "Illinois                1344352\n",
       "Florida                 1404431\n",
       "New York                1634543\n",
       "Texas                   2224989\n",
       "California              2922206\n",
       "Name: STD Cases, dtype: int64"
      ]
     },
     "execution_count": 22,
     "metadata": {},
     "output_type": "execute_result"
    }
   ],
   "source": [
    "state_std"
   ]
  },
  {
   "cell_type": "markdown",
   "id": "51c70b1e",
   "metadata": {},
   "source": [
    "There are the most STD cases in California, Texas, New York, and Florida but it is important to note that these states have high populations. "
   ]
  },
  {
   "cell_type": "code",
   "execution_count": 23,
   "id": "ede269bc",
   "metadata": {},
   "outputs": [
    {
     "name": "stdout",
     "output_type": "stream",
     "text": [
      "State    Year  \n",
      "Alabama  1996.0    12993306.0\n",
      "         1997.0    13103805.0\n",
      "         1998.0    12741738.0\n",
      "         1999.0    13290423.0\n",
      "         2000.0    12435667.0\n",
      "                      ...    \n",
      "Wyoming  2010.0      865626.0\n",
      "         2011.0     1003464.0\n",
      "         2012.0     1098741.0\n",
      "         2013.0      878613.0\n",
      "         2014.0     1228758.0\n",
      "Name: Population, Length: 969, dtype: float64\n"
     ]
    }
   ],
   "source": [
    "#summing the populations for each state and year\n",
    "pop_sum = std.groupby(['State', 'Year'])['Population'].sum()\n",
    "print(pop_sum)"
   ]
  },
  {
   "cell_type": "code",
   "execution_count": 24,
   "id": "90aaec07",
   "metadata": {},
   "outputs": [
    {
     "name": "stdout",
     "output_type": "stream",
     "text": [
      "State\n",
      "Wyoming                 9.495032e+05\n",
      "Vermont                 1.150330e+06\n",
      "North Dakota            1.274749e+06\n",
      "Alaska                  1.437952e+06\n",
      "District of Columbia    1.625036e+06\n",
      "South Dakota            1.669525e+06\n",
      "Montana                 1.883489e+06\n",
      "Delaware                2.057212e+06\n",
      "Rhode Island            2.527935e+06\n",
      "Maine                   2.674093e+06\n",
      "New Hampshire           2.737624e+06\n",
      "Hawaii                  2.993198e+06\n",
      "Idaho                   3.153115e+06\n",
      "Nebraska                4.200423e+06\n",
      "West Virginia           4.230443e+06\n",
      "New Mexico              5.083344e+06\n",
      "Utah                    5.704904e+06\n",
      "Nevada                  6.142294e+06\n",
      "Kansas                  7.220248e+06\n",
      "Iowa                    7.408534e+06\n",
      "Arkansas                7.899539e+06\n",
      "Mississippi             8.261492e+06\n",
      "Oregon                  8.950125e+06\n",
      "Connecticut             9.046417e+06\n",
      "Oklahoma                9.857712e+06\n",
      "Kentucky                1.149665e+07\n",
      "Colorado                1.205778e+07\n",
      "South Carolina          1.210285e+07\n",
      "Louisiana               1.308675e+07\n",
      "Minnesota               1.311978e+07\n",
      "Alabama                 1.316817e+07\n",
      "Wisconsin               1.500975e+07\n",
      "Maryland                1.585225e+07\n",
      "Missouri                1.615399e+07\n",
      "Arizona                 1.629156e+07\n",
      "Washington              1.684265e+07\n",
      "Tennessee               1.730174e+07\n",
      "Indiana                 1.757643e+07\n",
      "Massachusetts           1.775948e+07\n",
      "Virginia                2.098897e+07\n",
      "New Jersey              2.440295e+07\n",
      "North Carolina          2.511879e+07\n",
      "Georgia                 2.546188e+07\n",
      "Michigan                2.810616e+07\n",
      "Ohio                    3.291045e+07\n",
      "Pennsylvania            3.560009e+07\n",
      "Illinois                3.612654e+07\n",
      "Florida                 5.082374e+07\n",
      "New York                5.253670e+07\n",
      "Texas                   6.698614e+07\n",
      "California              1.027841e+08\n",
      "Name: Population, dtype: float64\n"
     ]
    }
   ],
   "source": [
    "#Finding the avg population\n",
    "meanpop = pop_sum.groupby('State').mean().sort_values(ascending=True)\n",
    "print(meanpop)"
   ]
  },
  {
   "cell_type": "code",
   "execution_count": 25,
   "id": "38f220ce",
   "metadata": {},
   "outputs": [],
   "source": [
    "average = state_std/(meanpop)"
   ]
  },
  {
   "cell_type": "code",
   "execution_count": 26,
   "id": "aaa69615",
   "metadata": {},
   "outputs": [],
   "source": [
    "avg_sort=average.sort_values(ascending=False)"
   ]
  },
  {
   "cell_type": "code",
   "execution_count": 27,
   "id": "aaa5c18b",
   "metadata": {},
   "outputs": [
    {
     "name": "stdout",
     "output_type": "stream",
     "text": [
      "State\n",
      "District of Columbia    0.086242\n",
      "Alaska                  0.062089\n",
      "Mississippi             0.055644\n",
      "South Carolina          0.047446\n",
      "Louisiana               0.046519\n",
      "Delaware                0.044347\n",
      "Alabama                 0.043223\n",
      "Georgia                 0.041172\n",
      "Illinois                0.037212\n",
      "North Carolina          0.037048\n",
      "New Mexico              0.036415\n",
      "Hawaii                  0.035700\n",
      "Tennessee               0.035465\n",
      "Michigan                0.034827\n",
      "Ohio                    0.034486\n",
      "Maryland                0.034430\n",
      "Missouri                0.034235\n",
      "Arkansas                0.034185\n",
      "South Dakota            0.034180\n",
      "Oklahoma                0.033531\n",
      "Texas                   0.033216\n",
      "New York                0.031112\n",
      "Wisconsin               0.030905\n",
      "Nevada                  0.029317\n",
      "Arizona                 0.029284\n",
      "Virginia                0.029280\n",
      "North Dakota            0.029225\n",
      "Colorado                0.029164\n",
      "Indiana                 0.028771\n",
      "Nebraska                0.028481\n",
      "California              0.028431\n",
      "Rhode Island            0.028183\n",
      "Wyoming                 0.027714\n",
      "Florida                 0.027633\n",
      "Connecticut             0.027501\n",
      "Kansas                  0.027343\n",
      "Montana                 0.027094\n",
      "Pennsylvania            0.026824\n",
      "Iowa                    0.024344\n",
      "Kentucky                0.024186\n",
      "Washington              0.023622\n",
      "Oregon                  0.022928\n",
      "Minnesota               0.022093\n",
      "New Jersey              0.020593\n",
      "Idaho                   0.020278\n",
      "Massachusetts           0.018886\n",
      "Vermont                 0.018704\n",
      "West Virginia           0.018084\n",
      "Utah                    0.017357\n",
      "Maine                   0.016648\n",
      "New Hampshire           0.014298\n",
      "dtype: float64\n"
     ]
    }
   ],
   "source": [
    "print(avg_sort)"
   ]
  },
  {
   "cell_type": "markdown",
   "id": "aea460a3",
   "metadata": {},
   "source": [
    "After finding the average population and the number of cases per state, we see that D.C. has the highest rate of STDs with Alaska, Mississippi, and South Carolina following. "
   ]
  },
  {
   "cell_type": "markdown",
   "id": "0c192846",
   "metadata": {},
   "source": [
    "# STDs by Year"
   ]
  },
  {
   "cell_type": "code",
   "execution_count": 28,
   "id": "21115ce7",
   "metadata": {},
   "outputs": [
    {
     "data": {
      "image/png": "[encoded data removed]",
      "text/plain": [
       "<Figure size 640x480 with 1 Axes>"
      ]
     },
     "metadata": {},
     "output_type": "display_data"
    }
   ],
   "source": [
    "#Grouping the data by year and sum of std cases \n",
    "std_year = std.groupby('Year')['STD Cases'].sum()\n",
    "\n",
    "# Plotting\n",
    "std_year.plot(kind='bar')\n",
    "plt.title('STDs per Year')\n",
    "plt.xlabel('Year')\n",
    "plt.ylabel('STD Cases')\n",
    "plt.show()"
   ]
  },
  {
   "cell_type": "markdown",
   "id": "5967e5eb",
   "metadata": {},
   "source": [
    "Number of STDs is increasing by the year most years. "
   ]
  },
  {
   "cell_type": "code",
   "execution_count": 29,
   "id": "525a5f05",
   "metadata": {},
   "outputs": [
    {
     "data": {
      "image/png": "[encoded data removed]",
      "text/plain": [
       "<Figure size 640x480 with 1 Axes>"
      ]
     },
     "metadata": {},
     "output_type": "display_data"
    }
   ],
   "source": [
    "# Group the data\n",
    "year_pop = std.groupby('Year')['Population'].sum()\n",
    "\n",
    "# Plotting\n",
    "year_pop.plot()\n",
    "plt.title('Population per Year')\n",
    "plt.xlabel('Year')\n",
    "plt.ylabel('Population')\n",
    "plt.xlim(left=1996, right=2014)\n",
    "plt.show()"
   ]
  },
  {
   "cell_type": "markdown",
   "id": "c1f11b9f",
   "metadata": {},
   "source": [
    "The popuation also appears to be increasing most years. "
   ]
  },
  {
   "cell_type": "code",
   "execution_count": 30,
   "id": "7a4fdab9",
   "metadata": {},
   "outputs": [
    {
     "name": "stdout",
     "output_type": "stream",
     "text": [
      "Year\n",
      "1996.0         NaN\n",
      "1997.0    0.050146\n",
      "1998.0    0.113085\n",
      "1999.0    0.059536\n",
      "2000.0    0.046753\n",
      "2001.0    0.068109\n",
      "2002.0    0.036678\n",
      "2003.0    0.022258\n",
      "2004.0    0.039200\n",
      "2005.0    0.045116\n",
      "2006.0    0.056064\n",
      "2007.0    0.054894\n",
      "2008.0    0.057550\n",
      "2009.0   -0.000906\n",
      "2010.0    0.045953\n",
      "2011.0    0.072104\n",
      "2012.0    0.014216\n",
      "2013.0   -0.011945\n",
      "2014.0    0.033993\n",
      "Name: STD Cases, dtype: float64\n"
     ]
    }
   ],
   "source": [
    "#Finding rate of stds per year change\n",
    "std_year_rate=std_year.pct_change()\n",
    "print(std_year_rate)"
   ]
  },
  {
   "cell_type": "code",
   "execution_count": 31,
   "id": "bf4c4b21",
   "metadata": {},
   "outputs": [
    {
     "name": "stdout",
     "output_type": "stream",
     "text": [
      "Year\n",
      "1996.0         NaN\n",
      "1997.0    0.016132\n",
      "1998.0    0.004564\n",
      "1999.0    0.017121\n",
      "2000.0    0.019879\n",
      "2001.0    0.006551\n",
      "2002.0    0.008823\n",
      "2003.0    0.014968\n",
      "2004.0    0.011039\n",
      "2005.0   -0.002754\n",
      "2006.0    0.021615\n",
      "2007.0    0.005237\n",
      "2008.0    0.020912\n",
      "2009.0    0.005450\n",
      "2010.0    0.014558\n",
      "2011.0    0.003265\n",
      "2012.0    0.002221\n",
      "2013.0    0.033727\n",
      "2014.0   -0.019252\n",
      "Name: Population, dtype: float64\n"
     ]
    }
   ],
   "source": [
    "#Finding rate of population change each year\n",
    "year_pop_rate = year_pop.pct_change()\n",
    "print(year_pop_rate)"
   ]
  },
  {
   "cell_type": "markdown",
   "id": "323b8f7b",
   "metadata": {},
   "source": [
    "We can see that the rate of number of STDs per year increased every year except 2009 and 2013. From the graphs above, we were able to see that the population and the number of STDs were both steadily increasing over the years, but finding the change in rates allowed us to see that the number of STDs increased at a higher rate for the majority of the years. To me, this indicates that the STD rate is not naturally incrasing with the population even though that is what could have been suggested from just seeing the graphs. "
   ]
  },
  {
   "cell_type": "code",
   "execution_count": 32,
   "id": "90d0109f",
   "metadata": {},
   "outputs": [
    {
     "name": "stdout",
     "output_type": "stream",
     "text": [
      "Disease  Chlamydia  Gonorrhea  Primary and Secondary Syphilis\n",
      "Year                                                         \n",
      "1996.0      492084     327723                           11414\n",
      "1997.0      537384     326971                            8548\n",
      "1998.0      608490     356107                            7018\n",
      "1999.0      662250     360598                            6613\n",
      "2000.0      708698     362920                            5973\n",
      "2001.0      783127     361758                            6100\n",
      "2002.0      834503     351836                            6862\n",
      "2003.0      877478     335104                            7177\n",
      "2004.0      929462     330132                            7980\n",
      "2005.0      976445     339593                            8724\n",
      "2006.0     1030911     358366                            9756\n",
      "2007.0     1108374     355991                           11466\n",
      "2008.0     1210523     336742                           13500\n",
      "2009.0     1244180     301174                           13997\n",
      "2010.0     1307893     309341                           13774\n",
      "2011.0     1412791     321849                           13970\n",
      "2012.0     1422976     334826                           15667\n",
      "2013.0     1401906     333004                           17375\n",
      "2014.0     1441789     350062                           19999\n"
     ]
    }
   ],
   "source": [
    "#Finding number of STDs per year by type of STD\n",
    "year_std= std.groupby(['Year','Disease'])['STD Cases'].sum()\n",
    "unstacked1=year_std.unstack()\n",
    "print(unstacked1)"
   ]
  },
  {
   "cell_type": "code",
   "execution_count": 33,
   "id": "e225b659",
   "metadata": {},
   "outputs": [
    {
     "data": {
      "image/png": "[encoded data removed]",
      "text/plain": [
       "<Figure size 640x480 with 1 Axes>"
      ]
     },
     "metadata": {},
     "output_type": "display_data"
    }
   ],
   "source": [
    "unstacked1.plot(kind='bar')\n",
    "plt.title('STD Cases by Disease by Age Code')\n",
    "plt.xlabel('Year')\n",
    "plt.ylabel('STD Cases')\n",
    "plt.ylim(0, 1700000)\n",
    "plt.show()"
   ]
  },
  {
   "cell_type": "markdown",
   "id": "5f94c840",
   "metadata": {},
   "source": [
    "# STDs by Age Group"
   ]
  },
  {
   "cell_type": "code",
   "execution_count": 34,
   "id": "fcb4fbe9",
   "metadata": {},
   "outputs": [
    {
     "name": "stdout",
     "output_type": "stream",
     "text": [
      "Age Code\n",
      "0-14      390379\n",
      "15-19    8167549\n",
      "20-24    9072165\n",
      "25-29    3953879\n",
      "30-34    1810217\n",
      "35-39     953043\n",
      "40+      1139728\n",
      "99        164314\n",
      "Name: STD Cases, dtype: int64\n"
     ]
    }
   ],
   "source": [
    "#Grouping number of STDs by Age Group\n",
    "age_std = std.groupby('Age Code')['STD Cases'].sum()\n",
    "print(age_std)"
   ]
  },
  {
   "cell_type": "code",
   "execution_count": 35,
   "id": "190bb971",
   "metadata": {},
   "outputs": [
    {
     "name": "stdout",
     "output_type": "stream",
     "text": [
      "Disease   Chlamydia  Gonorrhea  Primary and Secondary Syphilis\n",
      "Age Code                                                      \n",
      "0-14         294019      95879                             481\n",
      "15-19       6408981    1745515                           13053\n",
      "20-24       6989018    2046909                           36238\n",
      "25-29       2855315    1063854                           34710\n",
      "30-34       1198867     581309                           30041\n",
      "35-39        560255     364207                           28581\n",
      "40+          565947     511122                           62659\n",
      "99           118862      45302                             150\n"
     ]
    }
   ],
   "source": [
    "#Finding number of STDs per year by type of STD\n",
    "age_std2= std.groupby(['Age Code','Disease'])['STD Cases'].sum()\n",
    "unstacked2=age_std2.unstack()\n",
    "print(unstacked2)"
   ]
  },
  {
   "cell_type": "code",
   "execution_count": 36,
   "id": "b752257e",
   "metadata": {},
   "outputs": [
    {
     "data": {
      "image/png": "[encoded data removed]",
      "text/plain": [
       "<Figure size 640x480 with 1 Axes>"
      ]
     },
     "metadata": {},
     "output_type": "display_data"
    }
   ],
   "source": [
    "unstacked2.plot(kind='bar')\n",
    "plt.title('STD Cases by Disease by Age Code')\n",
    "plt.xlabel('Disease by Age Code')\n",
    "plt.ylabel('STD Cases')\n",
    "plt.ylim(100, 7000000)\n",
    "plt.show()"
   ]
  },
  {
   "cell_type": "markdown",
   "id": "66638d86",
   "metadata": {},
   "source": [
    "It is interesting that there is almost the same amount of Chlamydia and Gonorrhea in the 40+ age group. This group also has the highest number of syphilis cases of any group. The 20-24 age roup has the highest number of Chlamydia and Gonorrhea. "
   ]
  },
  {
   "cell_type": "markdown",
   "id": "7931bcc6",
   "metadata": {},
   "source": [
    "# Gender"
   ]
  },
  {
   "cell_type": "code",
   "execution_count": 37,
   "id": "d6d7962f",
   "metadata": {},
   "outputs": [
    {
     "name": "stdout",
     "output_type": "stream",
     "text": [
      "Gender\n",
      "Female     17639920\n",
      "Male        7956030\n",
      "Unknown       55324\n",
      "Name: STD Cases, dtype: int64\n"
     ]
    }
   ],
   "source": [
    "#Grouping number of STDs by Gender\n",
    "gender_std = std.groupby('Gender')['STD Cases'].sum()\n",
    "print(gender_std)"
   ]
  },
  {
   "cell_type": "code",
   "execution_count": 38,
   "id": "197541f4",
   "metadata": {},
   "outputs": [
    {
     "data": {
      "image/png": "[encoded data removed]",
      "text/plain": [
       "<Figure size 640x480 with 1 Axes>"
      ]
     },
     "metadata": {},
     "output_type": "display_data"
    }
   ],
   "source": [
    "#plotting\n",
    "gender_std.plot(kind='bar')\n",
    "plt.title('STD Cases by Gender')\n",
    "plt.xlabel('Gender')\n",
    "plt.ylabel('STD Cases')\n",
    "plt.show()"
   ]
  },
  {
   "cell_type": "markdown",
   "id": "ee99fb51",
   "metadata": {},
   "source": [
    "There are more women than men in this population that have had STDs."
   ]
  },
  {
   "cell_type": "code",
   "execution_count": 39,
   "id": "c8db5f13",
   "metadata": {},
   "outputs": [
    {
     "name": "stdout",
     "output_type": "stream",
     "text": [
      "Disease  Chlamydia  Gonorrhea  Primary and Secondary Syphilis\n",
      "Gender                                                       \n",
      "Female    14289879    3309364                           40677\n",
      "Male       4658719    3132181                          165130\n",
      "Unknown      42666      12552                             106\n"
     ]
    }
   ],
   "source": [
    "#Finding number of STDs per year by type of STD\n",
    "gender2= std.groupby(['Gender','Disease'])['STD Cases'].sum()\n",
    "unstacked3=gender2.unstack()\n",
    "print(unstacked3)"
   ]
  },
  {
   "cell_type": "code",
   "execution_count": 40,
   "id": "9b4f1b73",
   "metadata": {},
   "outputs": [
    {
     "data": {
      "image/png": "[encoded data removed]",
      "text/plain": [
       "<Figure size 640x480 with 1 Axes>"
      ]
     },
     "metadata": {},
     "output_type": "display_data"
    }
   ],
   "source": [
    "unstacked3.plot(kind='bar')\n",
    "plt.title('STD Cases by Gender by Disease')\n",
    "plt.xlabel('Gender by Disease')\n",
    "plt.ylabel('STD Cases')\n",
    "plt.show()"
   ]
  },
  {
   "cell_type": "markdown",
   "id": "a5acf29c",
   "metadata": {},
   "source": [
    "There is almost the same number of gonorrhea cases between males and females. There are 4 times more Syphilis cases in males than females. "
   ]
  },
  {
   "cell_type": "markdown",
   "id": "9aaf7042",
   "metadata": {},
   "source": [
    "The reasoning for the differences in occurances between males and females is unknown. "
   ]
  }
 ],
 "metadata": {
  "kernelspec": {
   "display_name": "Python 3 (ipykernel)",
   "language": "python",
   "name": "python3"
  },
  "language_info": {
   "codemirror_mode": {
    "name": "ipython",
    "version": 3
   },
   "file_extension": ".py",
   "mimetype": "text/x-python",
   "name": "python",
   "nbconvert_exporter": "python",
   "pygments_lexer": "ipython3",
   "version": "3.9.13"
  }
 },
 "nbformat": 4,
 "nbformat_minor": 5
}
